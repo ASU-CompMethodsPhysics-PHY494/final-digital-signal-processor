{
 "cells": [
  {
   "cell_type": "code",
   "execution_count": 2,
   "metadata": {
    "collapsed": true
   },
   "outputs": [],
   "source": [
    "import os\n",
    "from scipy import *\n",
    "from scipy import signal\n",
    "from pylab import *\n",
    "from wave import *\n",
    "import struct\n",
    "import numpy as np"
   ]
  },
  {
   "cell_type": "code",
   "execution_count": null,
   "metadata": {
    "collapsed": true
   },
   "outputs": [],
   "source": [
    "def superprogram(p, s, x, y, a=0, b=0, c=1, v=1):\n",
    "    #x and y are arrays for coordinate points\n",
    "    #p is severity of effect\n",
    "    #s selects effects takes integer values\n",
    "    #v is a volume control input\n",
    "    #h is output array\n",
    "    #y is component\n",
    "    \n",
    "    x=np.linspace(-np.pi,30*np.pi,1000)\n",
    "    y=np.zeros(1000)\n",
    "    h=np.zeros(1000)\n",
    "    \n",
    "    #Distortion1\n",
    "    #typical p values = 10\n",
    "    if s== 1:\n",
    "        for i in range(1000): \n",
    "            if i%2==0:\n",
    "                h[i]=(.02*p)+((-a*signal.square((2*np.pi)/1000*i)) + b*signal.sawtooth((2*np.pi)/1000*i-(np.pi*i)-(np.pi*i)) + c*np.sin((2*np.pi)/1000*i))/(a+b+c)\n",
    "            else:\n",
    "                h[i]=-(.02*p)+((-a*signal.square((2*np.pi)/1000*i)) + b*signal.sawtooth((2*np.pi)/1000*i-(np.pi*i)-(np.pi*i)) + c*np.sin((2*np.pi)/1000*i))/(a+b+c)\n",
    "        return h*v\n",
    "    \n",
    "    #chorus\n",
    "    #typical p values = 6\n",
    "    if s== 2:\n",
    "        for i in range(1000): \n",
    "            y[i]=(-a*signal.square(-np.pi+(p*np.pi)/1000*i*p) + b*signal.sawtooth(-np.pi+(p*np.pi)/1000*i*p-(np.pi*i)) + c*np.sin(-np.pi+(p*np.pi)/1000*i*p))/(a+b+c) \n",
    "        #h=y+(-a*signal.square(-np.pi+(np.pi)*x) + b*signal.sawtooth(-np.pi+(np.pi)*x-(np.pi*i)) + c*np.sin(-np.pi+(p*np.pi)*x))/(a+b+c)\n",
    "        h[:]=y+np.sin(-np.pi*x)\n",
    "        return h*v\n",
    "    \n",
    "    #tremolo\n",
    "    #typical p values = 10\n",
    "    if s== 3:\n",
    "        for i in range(1000):\n",
    "            y[i]=(-a*signal.square(-np.pi+(31*np.pi)/1000*i) + b*signal.sawtooth(-np.pi+(31*np.pi)/1000*i-(np.pi*i)) + c*np.sin(-np.pi+(31*np.pi)/1000*i))/(a+b+c) \n",
    "            h[i]=(-a*signal.square(-np.pi+(31*np.pi/p)*i) + b*signal.sawtooth(-np.pi+(31*np.pi/p)*i-(np.pi*i)) + c*np.sin(-np.pi+(31*np.pi/p)*i))/(a+b+c)\n",
    "        return h*y*v\n",
    "    \n",
    "    #fib distortion\n",
    "    #typical p values = 10\n",
    "    if s== 4:\n",
    "        fib2=np.array([1,2,3,5,8,13,21,-1,-2,-3,-5,-8,-13,-21])\n",
    "        count=0\n",
    "        for i in range(1000):\n",
    "            if i%2==0:\n",
    "                h[i]=(.005*p*fib2[count])+((-a*signal.square((2*np.pi)/1000*i)) + b*signal.sawtooth((2*np.pi)/1000*i-(np.pi*i)-(np.pi*i)) + c*np.sin((2*np.pi)/1000*i))/(a+b+c)\n",
    "                count+=1\n",
    "                if count==14:\n",
    "                    count=0\n",
    "            else: \n",
    "                h[i]=((-a*signal.square((2*np.pi)/1000*i)) + b*signal.sawtooth((2*np.pi)/1000*i-(np.pi*i)-(np.pi*i)) + c*np.sin((2*np.pi)/1000*i))/(a+b+c)\n",
    "        return h*v\n",
    "    \n",
    "    #if invalid selection, return only wave shapes\n",
    "    else:\n",
    "        for i in range(1000):\n",
    "            h[i]=((-a*signal.square((2*np.pi)/1000*i)) + b*signal.sawtooth((2*np.pi)/1000*i-(np.pi*i)-(np.pi*i)) + c*np.sin((2*np.pi)/1000*i))/(a+b+c)\n",
    "            \n",
    "        return h*v\n",
    "\n",
    "#SENDS IT TO PD VERY IMPORTANT TO INCLUDE IN EVERY EFFECT\n",
    "def SendtoPd(message==''):\n",
    "    os.system(\"echo '\" + message +\"'|PdSent 4000\")\n",
    "    \n",
    "def IsOn():\n",
    "    message = ' 0 1;'\n",
    "    sendtoPd(message)\n",
    "    \n",
    "def SetVolume():\n",
    "    vol = 100\n",
    "    message = '1 ' + str(Volume) + ';'\n",
    "    SendtoPd(message)"
   ]
  },
  {
   "cell_type": "code",
   "execution_count": null,
   "metadata": {
    "collapsed": true
   },
   "outputs": [],
   "source": []
  }
 ],
 "metadata": {
  "kernelspec": {
   "display_name": "Python 3",
   "language": "python",
   "name": "python3"
  },
  "language_info": {
   "codemirror_mode": {
    "name": "ipython",
    "version": 3
   },
   "file_extension": ".py",
   "mimetype": "text/x-python",
   "name": "python",
   "nbconvert_exporter": "python",
   "pygments_lexer": "ipython3",
   "version": "3.5.1"
  }
 },
 "nbformat": 4,
 "nbformat_minor": 0
}
