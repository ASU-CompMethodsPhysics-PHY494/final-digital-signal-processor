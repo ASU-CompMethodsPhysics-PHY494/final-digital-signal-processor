{
 "cells": [
  {
   "cell_type": "markdown",
   "metadata": {},
   "source": [
    "# Signal Process Proof of Concept"
   ]
  },
  {
   "cell_type": "markdown",
   "metadata": {},
   "source": [
    "Just like with Simpl and SndObj, you have to install pyaudio using pip if it's not already there.\n",
    "\n",
    "ie: \n",
    "$ pip install pyaudio\n",
    "\n",
    "Or even,\n",
    "$ sudo apt-get install python-pyaudio python3-pyaudio \n",
    "\n",
    "Or even better:\n",
    "sudo git clone http://people.csail.mit.edu/hubert/git/pyaudio.git\n",
    "sudo apt-get install libportaudio0 libportaudio2 libportaudiocpp0 portaudio19-dev\n",
    "sudo apt-get install python-dev\n",
    "cd pyaudio\n",
    "sudo python setup.py install\n",
    "\n",
    "http://people.csail.mit.edu/hubert/pyaudio/"
   ]
  },
  {
   "cell_type": "markdown",
   "metadata": {},
   "source": [
    "# Recording and Producing an Audio File in Real Time (from PyAudio)"
   ]
  },
  {
   "cell_type": "code",
   "execution_count": 1,
   "metadata": {
    "collapsed": false
   },
   "outputs": [
    {
     "ename": "ImportError",
     "evalue": "No module named 'pyaudio'",
     "output_type": "error",
     "traceback": [
      "\u001b[1;31m---------------------------------------------------------------------------\u001b[0m",
      "\u001b[1;31mImportError\u001b[0m                               Traceback (most recent call last)",
      "\u001b[1;32m<ipython-input-1-656698b41a5c>\u001b[0m in \u001b[0;36m<module>\u001b[1;34m()\u001b[0m\n\u001b[1;32m----> 1\u001b[1;33m \u001b[1;32mimport\u001b[0m \u001b[0mpyaudio\u001b[0m\u001b[1;33m\u001b[0m\u001b[0m\n\u001b[0m\u001b[0;32m      2\u001b[0m \u001b[1;32mimport\u001b[0m \u001b[0mwave\u001b[0m\u001b[1;33m\u001b[0m\u001b[0m\n\u001b[0;32m      3\u001b[0m \u001b[1;33m\u001b[0m\u001b[0m\n\u001b[0;32m      4\u001b[0m \u001b[0mCHUNK\u001b[0m \u001b[1;33m=\u001b[0m \u001b[1;36m1024\u001b[0m\u001b[1;33m\u001b[0m\u001b[0m\n\u001b[0;32m      5\u001b[0m \u001b[0mFORMAT\u001b[0m \u001b[1;33m=\u001b[0m \u001b[0mpyaudio\u001b[0m\u001b[1;33m.\u001b[0m\u001b[0mpaInt16\u001b[0m\u001b[1;33m\u001b[0m\u001b[0m\n",
      "\u001b[1;31mImportError\u001b[0m: No module named 'pyaudio'"
     ]
    }
   ],
   "source": [
    "import pyaudio\n",
    "import wave\n",
    "\n",
    "CHUNK = 1024\n",
    "FORMAT = pyaudio.paInt16\n",
    "CHANNELS = 2\n",
    "RATE = 44100\n",
    "RECORD_SECONDS = 5\n",
    "WAVE_OUTPUT_FILENAME = \"output.wav\"\n",
    "\n",
    "p = pyaudio.PyAudio()\n",
    "\n",
    "stream = p.open(format=FORMAT,\n",
    "                channels=CHANNELS,\n",
    "                rate=RATE,\n",
    "                input=True,\n",
    "                frames_per_buffer=CHUNK)\n",
    "\n",
    "print(\"* Recording\")\n",
    "\n",
    "frames = []\n",
    "\n",
    "for i in range(0, int(RATE / CHUNK * RECORD_SECONDS)):\n",
    "    data = stream.read(CHUNK)\n",
    "    frames.append(data)\n",
    "\n",
    "print(\"* Finished Recording\")\n",
    "\n",
    "stream.stop_stream()\n",
    "stream.close()\n",
    "p.terminate()\n",
    "\n",
    "wf = wave.open(WAVE_OUTPUT_FILENAME, 'wb')\n",
    "wf.setnchannels(CHANNELS)\n",
    "wf.setsampwidth(p.get_sample_size(FORMAT))\n",
    "wf.setframerate(RATE)\n",
    "wf.writeframes(b''.join(frames))\n",
    "wf.close()"
   ]
  },
  {
   "cell_type": "markdown",
   "metadata": {},
   "source": [
    "# Effects"
   ]
  },
  {
   "cell_type": "markdown",
   "metadata": {},
   "source": [
    "Update: I haven't figured out how to apply this function to the actual input in real-time and playback in real-time as of yet.\n",
    "The system I've outlined takes an already written file and processes it from there. The problem with the above code is that it will only write to an audio file after it's finished recording. I've tried modifying it using a while loop:\n",
    "\n",
    "    while stream.is_active():\n",
    "        time.sleep(0.1)\n",
    "    else\n",
    "        stream.stop_stream()\n",
    "        stream.close()\n",
    "        \n",
    "...but it didn't work."
   ]
  },
  {
   "cell_type": "markdown",
   "metadata": {
    "collapsed": true
   },
   "source": [
    "# Using Pure Python/Scripy (and help from ThinkDSP)"
   ]
  },
  {
   "cell_type": "code",
   "execution_count": 2,
   "metadata": {
    "collapsed": false
   },
   "outputs": [],
   "source": [
    "from __future__ import print_function, division\n",
    "\n",
    "import thinkdsp\n",
    "import thinkplot\n",
    "import thinkstats2 \n",
    "\n",
    "import numpy as np\n",
    "\n",
    "import warnings\n",
    "warnings.filterwarnings('ignore')\n",
    "\n",
    "from IPython.html.widgets import interact, interact_manual, fixed\n",
    "from IPython.html import widgets\n",
    "from IPython.display import display\n",
    "\n",
    "%matplotlib inline"
   ]
  },
  {
   "cell_type": "code",
   "execution_count": 3,
   "metadata": {
    "collapsed": true
   },
   "outputs": [],
   "source": [
    "\n",
    "\n",
    "\n",
    "\n"
   ]
  },
  {
   "cell_type": "code",
   "execution_count": null,
   "metadata": {
    "collapsed": true
   },
   "outputs": [],
   "source": []
  },
  {
   "cell_type": "code",
   "execution_count": null,
   "metadata": {
    "collapsed": true
   },
   "outputs": [],
   "source": []
  },
  {
   "cell_type": "markdown",
   "metadata": {},
   "source": [
    "# Using PyAudio:"
   ]
  },
  {
   "cell_type": "code",
   "execution_count": null,
   "metadata": {
    "collapsed": false
   },
   "outputs": [],
   "source": [
    "import numpy as np\n",
    "from numpy import *\n",
    "\n",
    "def __init__(self, attack_coeff, release_coeff, delay, dtype=float32):\n",
    "    self.delay_index = 0\n",
    "    self.envelope = 0\n",
    "    self.gain = 1\n",
    "    self.delay = delay\n",
    "    self.delay_line = zeros(delay, dtype=dtype)\n",
    "    self.release_coeff = release_coeff\n",
    "    self.attack_coeff = attack_coeff\n",
    "\n",
    "def limit(self, signal, threshold):\n",
    "    for i in arange(len(signal)):\n",
    "        self.delay_line[self.delay_index] = signal[i]\n",
    "        self.delay_index = (self.delay_index + 1) % self.delay\n",
    "\n",
    "        # calculate an envelope of the signal\n",
    "        self.envelope *= self.release_coeff\n",
    "        self.envelope  = max(abs(signal[i]), self.envelope)\n",
    "\n",
    "        # have self.gain go towards a desired limiter gain\n",
    "        if self.envelope > threshold:\n",
    "            target_gain = (1+threshold-self.envelope)\n",
    "        else:\n",
    "            target_gain = 1.0\n",
    "        self.gain = ( self.gain*self.attack_coeff +\n",
    "                      target_gain*(1-self.attack_coeff) )\n",
    "\n",
    "        # limit the delayed signal\n",
    "        signal[i] = self.delay_line[self.delay_index] * self.gain\n"
   ]
  },
  {
   "cell_type": "markdown",
   "metadata": {},
   "source": [
    "Combining the two:"
   ]
  },
  {
   "cell_type": "code",
   "execution_count": null,
   "metadata": {
    "collapsed": false
   },
   "outputs": [],
   "source": [
    "from pyaudio import PyAudio\n",
    "from pyaudio import paFloat32\n",
    "\n",
    "pa = PyAudio()\n",
    "stream = pa.open(format = paFloat32,\n",
    "                 channels = 1,\n",
    "                 rate = 44100,\n",
    "                 output = True,\n",
    "                 frames_per_buffer = 1024,\n",
    "                 stream_callback = callback)\n",
    "\n",
    "while stream.is_active():\n",
    "    sleep(0.1)\n",
    "\n",
    "stream.close()\n",
    "pa.terminate()\n",
    "\n",
    "limiter = Limiter(attack_coeff, release_coeff, delay, dtype)\n",
    "\n",
    "def callback(in_data, frame_count, time_info, flag):\n",
    "    if flag:\n",
    "        print(\"Playback Error: %i\" % flag)\n",
    "    played_frames = counter\n",
    "    counter += frame_count\n",
    "    limiter.limit(signal[played_frames:counter], threshold)\n",
    "    return signal[played_frames:counter], paContinue"
   ]
  },
  {
   "cell_type": "code",
   "execution_count": null,
   "metadata": {
    "collapsed": false
   },
   "outputs": [],
   "source": []
  },
  {
   "cell_type": "code",
   "execution_count": null,
   "metadata": {
    "collapsed": true
   },
   "outputs": [],
   "source": []
  }
 ],
 "metadata": {
  "kernelspec": {
   "display_name": "Python 3",
   "language": "python",
   "name": "python3"
  },
  "language_info": {
   "codemirror_mode": {
    "name": "ipython",
    "version": 3
   },
   "file_extension": ".py",
   "mimetype": "text/x-python",
   "name": "python",
   "nbconvert_exporter": "python",
   "pygments_lexer": "ipython3",
   "version": "3.5.1"
  }
 },
 "nbformat": 4,
 "nbformat_minor": 0
}
