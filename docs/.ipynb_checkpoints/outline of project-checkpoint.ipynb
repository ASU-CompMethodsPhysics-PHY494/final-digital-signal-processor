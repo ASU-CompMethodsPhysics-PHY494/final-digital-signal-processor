{
 "cells": [
  {
   "cell_type": "markdown",
   "metadata": {},
   "source": [
    "# Outline of Project duties "
   ]
  },
  {
   "cell_type": "markdown",
   "metadata": {},
   "source": [
    "1. generating function and getting it to play \n",
    "2. Be able to generate a sin wave, a square wave, a triangle wave, and a saw wave\n",
    "3. Get the first effect down (distortion) and get it to play \n",
    "\n",
    "Effect Ideas: sliding between waveforms (like sine wave to saw wave to square), distortion (lots of different kinds), phase shifter, chorus, reverb, fuzz, pitch modulation, overdrive, delay, wah wah?, echo, dub-step, auto-tune, tremelo, volume phase/control? Prometheus DLX\n",
    "\n",
    "4. divide these ideas up and each work on them \n",
    "5. make graphs of the effects we programmed \n",
    "6. Work on the GUI (real time playback?)  \n",
    "\n",
    "Timeline: \n",
    "by April 17th have all wave forms generated \n",
    "by April 24th have the first effect generated and all other effects divied up \n",
    "by April 28th all effects have been created and graphed \n",
    "by April 30th have our poster rough draft done \n",
    "by May ?? have the poster edited and printed \n",
    "\n",
    "Responsibilities \n",
    "Chuck: First effect, All distortions, reverb, echo, wah wah\n",
    "Skyler: Generating the wave forms, slider effect, poster also, delay, Phase difter \n",
    "Trevor: Poster, effect creation, tremelo, distorion (mathemtatical series minupulation), chorus/pitch modulation \n",
    "\n",
    "Extra: Prometheus effect? GUI\n"
   ]
  }
 ],
 "metadata": {
  "kernelspec": {
   "display_name": "Python 3",
   "language": "python",
   "name": "python3"
  },
  "language_info": {
   "codemirror_mode": {
    "name": "ipython",
    "version": 3
   },
   "file_extension": ".py",
   "mimetype": "text/x-python",
   "name": "python",
   "nbconvert_exporter": "python",
   "pygments_lexer": "ipython3",
   "version": "3.5.1"
  }
 },
 "nbformat": 4,
 "nbformat_minor": 0
}
