{
 "cells": [
  {
   "cell_type": "code",
   "execution_count": null,
   "metadata": {
    "collapsed": true
   },
   "outputs": [],
   "source": [
    "def Tremelo(x,y,p)\n",
    "    x=np.linspace(-np.pi,30*np.pi,1000)\n",
    "    y=np.zeros(1000) \n",
    "    h=np.zeros(1000)\n",
    "    for i in range(1000): \n",
    "        y[i]=np.sin(-np.pi+(31*np.pi)/1000*i)\n",
    "        h[i]=np.sin(-np.pi+(31*np.pi)/p*i)\n",
    "    return (x,p)"
   ]
  }
 ],
 "metadata": {
  "kernelspec": {
   "display_name": "Python 3",
   "language": "python",
   "name": "python3"
  },
  "language_info": {
   "codemirror_mode": {
    "name": "ipython",
    "version": 3
   },
   "file_extension": ".py",
   "mimetype": "text/x-python",
   "name": "python",
   "nbconvert_exporter": "python",
   "pygments_lexer": "ipython3",
   "version": "3.5.1"
  }
 },
 "nbformat": 4,
 "nbformat_minor": 0
}
