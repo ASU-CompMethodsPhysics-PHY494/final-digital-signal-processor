{
 "cells": [
  {
   "cell_type": "code",
   "execution_count": null,
   "metadata": {
    "collapsed": true
   },
   "outputs": [],
   "source": [
    "import os\n",
    "\n",
    "def Chorus(x,y,n):\n",
    "    x=np.linspace(-np.pi,5*np.pi,1000)\n",
    "    y=np.zeros(1000) \n",
    "    h=np.zeros(1000)\n",
    "    for i in range(1000): \n",
    "        y[i]=np.sin(-np.pi+(6*np.pi)/1000*i*n)   \n",
    "    h=y+np.sin(x) \n",
    "    return (x,n)\n",
    "\n",
    "#SENDS IT TO PD VERY IMPORTANT TO INCLUDE IN EVERY EFFECT\n",
    "def SendtoPd(message==''):\n",
    "    os.system(\"echo '\" + message +\"'|PdSent 4000\")\n",
    "    \n",
    "def IsOn():\n",
    "    message = ' 0 1;'\n",
    "    sendtoPd(message)\n",
    "    \n",
    "def SetVolume():\n",
    "    vol = 100\n",
    "    message = '1 ' + str(Volume) + ';'\n",
    "    SendtoPd(message)"
   ]
  }
 ],
 "metadata": {
  "kernelspec": {
   "display_name": "Python 3",
   "language": "python",
   "name": "python3"
  },
  "language_info": {
   "codemirror_mode": {
    "name": "ipython",
    "version": 3
   },
   "file_extension": ".py",
   "mimetype": "text/x-python",
   "name": "python",
   "nbconvert_exporter": "python",
   "pygments_lexer": "ipython3",
   "version": "3.5.1"
  }
 },
 "nbformat": 4,
 "nbformat_minor": 0
}
