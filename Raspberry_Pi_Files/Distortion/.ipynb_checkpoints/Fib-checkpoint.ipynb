{
 "cells": [
  {
   "cell_type": "code",
   "execution_count": null,
   "metadata": {
    "collapsed": true
   },
   "outputs": [],
   "source": [
    "import os\n",
    "\n",
    "def Fib(x,y) :\n",
    "    fib=np.array([1,2,3,5,8,13,21,34,55,89])\n",
    "    x=np.linspace(-np.pi,np.pi,100)\n",
    "    y=np.zeros(100)\n",
    "    for i in range(100): \n",
    "        for j in range(len(fib)): \n",
    "            if i==fib[j]:\n",
    "                y[i]=.5+np.sin(-np.pi+(2*np.pi)/100*i)\n",
    "                y[i-1]=.3+np.sin(-np.pi+(2*np.pi)/100*i)\n",
    "        else: \n",
    "            y[i]=np.sin(-np.pi+(2*np.pi)/100*i)\n",
    "            \n",
    "            #SENDS IT TO PD VERY IMPORTANT TO INCLUDE IN EVERY EFFECT\n",
    "def SendtoPd(message==''):\n",
    "    os.system(\"echo '\" + message +\"'|PdSent 4000\")\n",
    "    \n",
    "def IsOn():\n",
    "    message = ' 0 1;'\n",
    "    sendtoPd(message)\n",
    "    \n",
    "def SetVolume():\n",
    "    vol = 100\n",
    "    message = '1 ' + str(Volume) + ';'\n",
    "    SendtoPd(message)"
   ]
  }
 ],
 "metadata": {
  "kernelspec": {
   "display_name": "Python 3",
   "language": "python",
   "name": "python3"
  },
  "language_info": {
   "codemirror_mode": {
    "name": "ipython",
    "version": 3
   },
   "file_extension": ".py",
   "mimetype": "text/x-python",
   "name": "python",
   "nbconvert_exporter": "python",
   "pygments_lexer": "ipython3",
   "version": "3.5.1"
  }
 },
 "nbformat": 4,
 "nbformat_minor": 0
}
