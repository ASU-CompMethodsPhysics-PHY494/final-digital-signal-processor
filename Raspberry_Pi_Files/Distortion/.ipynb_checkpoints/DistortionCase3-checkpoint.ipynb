{
 "cells": [
  {
   "cell_type": "code",
   "execution_count": null,
   "metadata": {
    "collapsed": true
   },
   "outputs": [],
   "source": [
    "def DistortionCase3(x,y)\n",
    "    x=np.linspace(-np.pi,np.pi,100)\n",
    "    y=np.zeros(100)\n",
    "    for i in range(100): \n",
    "        if i%7==0:\n",
    "            y[i]=.2+np.sin(-np.pi+(2*np.pi)/100*i)\n",
    "        else: \n",
    "            y[i]=np.sin(-np.pi+(2*np.pi)/100*i)\n",
    "    return x"
   ]
  }
 ],
 "metadata": {
  "kernelspec": {
   "display_name": "Python 3",
   "language": "python",
   "name": "python3"
  },
  "language_info": {
   "codemirror_mode": {
    "name": "ipython",
    "version": 3
   },
   "file_extension": ".py",
   "mimetype": "text/x-python",
   "name": "python",
   "nbconvert_exporter": "python",
   "pygments_lexer": "ipython3",
   "version": "3.5.1"
  }
 },
 "nbformat": 4,
 "nbformat_minor": 0
}
