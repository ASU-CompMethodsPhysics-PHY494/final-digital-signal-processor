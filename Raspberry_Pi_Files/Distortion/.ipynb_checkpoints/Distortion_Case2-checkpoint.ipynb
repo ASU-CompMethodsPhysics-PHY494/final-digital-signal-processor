{
 "cells": [
  {
   "cell_type": "code",
   "execution_count": null,
   "metadata": {
    "collapsed": true
   },
   "outputs": [],
   "source": [
    "def Distortion_Case2(y)\n",
    "    for i in range(100): \n",
    "        if i%3==0:\n",
    "            y[i]=.2+np.sin(-np.pi+(2*np.pi)/100*i)\n",
    "        else: \n",
    "            y[i]=-.2+np.sin(-np.pi+(2*np.pi)/100*i)\n",
    "    return y"
   ]
  }
 ],
 "metadata": {
  "kernelspec": {
   "display_name": "Python 3",
   "language": "python",
   "name": "python3"
  },
  "language_info": {
   "codemirror_mode": {
    "name": "ipython",
    "version": 3
   },
   "file_extension": ".py",
   "mimetype": "text/x-python",
   "name": "python",
   "nbconvert_exporter": "python",
   "pygments_lexer": "ipython3",
   "version": "3.5.1"
  }
 },
 "nbformat": 4,
 "nbformat_minor": 0
}
