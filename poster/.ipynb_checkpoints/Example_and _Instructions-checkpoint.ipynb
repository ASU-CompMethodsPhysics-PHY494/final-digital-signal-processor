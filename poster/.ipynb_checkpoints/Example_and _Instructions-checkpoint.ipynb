{
 "cells": [
  {
   "cell_type": "markdown",
   "metadata": {},
   "source": [
    "Our project was not so much centered around one large goal as it was numerous small goals to reach a large goal. For instance we need to effect a wave form which needs to be manipulated in real time. I will demonstrate effecting one wave using one effect below. This would be converted to Pure Noise format to be used with a raspberry pi microcontroller for real time manipulation."
   ]
  },
  {
   "cell_type": "markdown",
   "metadata": {},
   "source": [
    "First we make a function that distorts a wave, lets say a sin wave. We implement this and plot"
   ]
  },
  {
   "cell_type": "code",
   "execution_count": 9,
   "metadata": {
    "collapsed": true
   },
   "outputs": [],
   "source": [
    "import numpy as np\n",
    "def Distortion_Case1():\n",
    "    x=np.linspace(-np.pi,np.pi,100)\n",
    "    y=np.zeros(100)\n",
    "    for i in range(100): \n",
    "        if i%2==0:\n",
    "             y[i]=.2+np.sin(-np.pi+(2*np.pi)/100*i)\n",
    "        else: \n",
    "            y[i]=-.2+np.sin(-np.pi+(2*np.pi)/100*i)\n",
    "    return x,y"
   ]
  },
  {
   "cell_type": "code",
   "execution_count": 10,
   "metadata": {
    "collapsed": false
   },
   "outputs": [],
   "source": [
    "x,y=Distortion_Case1()\n"
   ]
  },
  {
   "cell_type": "markdown",
   "metadata": {},
   "source": [
    "Now we plot both the original wave and the effected wave to see what was altered."
   ]
  },
  {
   "cell_type": "code",
   "execution_count": 12,
   "metadata": {
    "collapsed": false,
    "scrolled": true
   },
   "outputs": [
    {
     "data": {
      "text/plain": [
       "[<matplotlib.lines.Line2D at 0x10a177550>]"
      ]
     },
     "execution_count": 12,
     "metadata": {},
     "output_type": "execute_result"
    },
    {
     "data": {
      "image/png": "[encoded data removed]",
      "text/plain": [
       "<matplotlib.figure.Figure at 0x10a177e10>"
      ]
     },
     "metadata": {},
     "output_type": "display_data"
    }
   ],
   "source": [
    "import matplotlib.pyplot as plt \n",
    "%matplotlib inline \n",
    "plt.plot(x,np.sin(x))\n",
    "plt.plot(x,y)"
   ]
  },
  {
   "cell_type": "markdown",
   "metadata": {},
   "source": [
    "We now use pre-defined functions to convert to pd format which can be used with the raspberry pi. This would be uploaded to the raspberry pi in and the Pure Noise software would take the effect and maniplate real time input sounds according the the effect. This will be performed during the poster session."
   ]
  },
  {
   "cell_type": "code",
   "execution_count": null,
   "metadata": {
    "collapsed": false
   },
   "outputs": [],
   "source": [
    "import os\n",
    "#SENDS IT TO PD VERY IMPORTANT TO INCLUDE IN EVERY EFFECT\n",
    "def SendtoPd(message==''):\n",
    "    os.system(\"echo '\" + message +\"'|PdSent 4000\")\n",
    "    \n",
    "def IsOn():\n",
    "    message = ' 0 1;'\n",
    "    sendtoPd(message)\n",
    "    \n",
    "def SetVolume():\n",
    "    vol = 100\n",
    "    message = '1 ' + str(Volume) + ';'\n",
    "    SendtoPd(message)"
   ]
  },
  {
   "cell_type": "code",
   "execution_count": null,
   "metadata": {
    "collapsed": true
   },
   "outputs": [],
   "source": []
  }
 ],
 "metadata": {
  "kernelspec": {
   "display_name": "Python 3",
   "language": "python",
   "name": "python3"
  },
  "language_info": {
   "codemirror_mode": {
    "name": "ipython",
    "version": 3
   },
   "file_extension": ".py",
   "mimetype": "text/x-python",
   "name": "python",
   "nbconvert_exporter": "python",
   "pygments_lexer": "ipython3",
   "version": "3.5.1"
  }
 },
 "nbformat": 4,
 "nbformat_minor": 0
}
