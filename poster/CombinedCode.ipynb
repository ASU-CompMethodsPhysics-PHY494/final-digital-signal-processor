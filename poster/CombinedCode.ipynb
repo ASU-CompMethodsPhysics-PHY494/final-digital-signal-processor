{
 "cells": [
  {
   "cell_type": "markdown",
   "metadata": {},
   "source": [
    "Below is a function that has taken general structures for the distortion, slider, tremelo, and chorus and allowed the user to use all of them at once and varry the degree which each is used. Note that not all effects we created are here."
   ]
  },
  {
   "cell_type": "code",
   "execution_count": 3,
   "metadata": {
    "collapsed": true
   },
   "outputs": [],
   "source": [
    "import os\n",
    "from scipy import *\n",
    "from scipy import signal\n",
    "from pylab import *\n",
    "from wave import *\n",
    "import struct\n",
    "import numpy as np"
   ]
  },
  {
   "cell_type": "code",
   "execution_count": 4,
   "metadata": {
    "collapsed": false
   },
   "outputs": [],
   "source": [
    "x=np.linspace(-np.pi,30*np.pi,1000)\n",
    "\n",
    "def superprogram(p, s, x, y, a=0, b=0, c=1, f=5, v=1):\n",
    "    #x and y are arrays for coordinate points\n",
    "    #f is period for which distortion effects happen\n",
    "    #p is severity of effect\n",
    "    #s selects effects takes integer values\n",
    "    #v is a volume control input\n",
    "    #h is output array\n",
    "    #y is component\n",
    "    #a, b, and c are weights for wave shape\n",
    "    \n",
    "    x=np.linspace(-np.pi,30*np.pi,1000)\n",
    "    y=np.zeros(1000)\n",
    "    h=np.zeros(1000)\n",
    "    \n",
    "    #Distortion1\n",
    "    #typical p values = 10\n",
    "    if s== 1:\n",
    "        count = 0\n",
    "        tick = 0\n",
    "        for i in range(1000):\n",
    "            if count==f:\n",
    "                if tick == 0:\n",
    "                    h[i]=(.02*p)+((a*signal.square((2*np.pi)/1000*i)) + b*signal.sawtooth((2*np.pi)/500*i-2*(np.pi)) + c*np.sin((2*np.pi)/1000*i))/(abs(a)+abs(b)+abs(c))\n",
    "                    count-=f\n",
    "                    tick+=1\n",
    "                else:\n",
    "                    h[i]=-(.02*p)+((a*signal.square((2*np.pi)/1000*i)) + b*signal.sawtooth((2*np.pi)/500*i-2*(np.pi)) + c*np.sin((2*np.pi)/1000*i))/(abs(a)+abs(b)+abs(c))\n",
    "                    count-=f\n",
    "                    tick-=1\n",
    "            else:\n",
    "                h[i]=((a*signal.square((2*np.pi)/1000*i)) + b*signal.sawtooth((2*np.pi)/500*i-2*(np.pi)) + c*np.sin((2*np.pi)/1000*i))/(abs(a)+abs(b)+abs(c))\n",
    "            count += 1\n",
    "        return h*v\n",
    "    \n",
    "    #chorus\n",
    "    #typical p values = 6\n",
    "    if s== 2:\n",
    "        for i in range(1000): \n",
    "            y[i]=(a*signal.square(-np.pi+(p*np.pi)/1000*i*p) + b*signal.sawtooth(-2*np.pi+(p*np.pi)/500*i*p) + c*np.sin(-np.pi+(p*np.pi)/1000*i*p))/(abs(a)+abs(b)+abs(c)) \n",
    "        h[:]=y+(a*signal.square(-np.pi*x) + b*signal.sawtooth(-np.pi*x-np.pi) + c*np.sin(-np.pi*x))/(abs(a)+abs(b)+abs(c))\n",
    "        return .5*h*v\n",
    "    \n",
    "    #tremolo\n",
    "    #typical p values = 10\n",
    "    if s== 3:\n",
    "        for i in range(1000):\n",
    "            y[i]=(a*signal.square(-np.pi+(31*np.pi)/1000*i) + b*signal.sawtooth(-2*np.pi+(31*np.pi)/500*i) + c*np.sin(-np.pi+(31*np.pi)/1000*i))/(abs(a)+abs(b)+abs(c)) \n",
    "            h[i]=(a*signal.square(-np.pi+(31*np.pi/3100*p)*i) + b*signal.sawtooth(-2*np.pi+(31*np.pi/3100*p)*i) + c*np.sin(-np.pi+(31*np.pi/3100*p)*i))/(abs(a)+abs(b)+abs(c))\n",
    "        return h*y*v\n",
    "    \n",
    "    #fib distortion\n",
    "    #typical p values = 10\n",
    "    if s== 4:\n",
    "        fib2=np.array([1,2,3,5,8,13,21,-1,-2,-3,-5,-8,-13,-21])\n",
    "        count=0\n",
    "        tick=0\n",
    "        for i in range(1000):\n",
    "            if tick==f:\n",
    "                h[i]=(.005*p*fib2[count])+((a*signal.square((2*np.pi)/1000*i)) + b*signal.sawtooth((2*np.pi)/500*i-2*(np.pi)) + c*np.sin((2*np.pi)/1000*i))/(abs(a)+abs(b)+abs(c))\n",
    "                count+=1\n",
    "                tick-=f\n",
    "                if count==14:\n",
    "                    count=0\n",
    "            else: \n",
    "                h[i]=((a*signal.square((2*np.pi)/1000*i)) + b*signal.sawtooth((2*np.pi)/500*i-2*(np.pi)) + c*np.sin((2*np.pi)/1000*i))/(abs(a)+abs(b)+abs(c))\n",
    "                tick+=1\n",
    "        return h*v\n",
    "    \n",
    "    #if invalid effect selection, returns only wave shapes\n",
    "    else:\n",
    "        for i in range(1000):\n",
    "            h[i]=((a*signal.square((2*np.pi)/1000*i)) + b*signal.sawtooth((2*np.pi)/500*i-2*(np.pi)*i) + c*np.sin((2*np.pi)/1000*i))/(abs(a)+abs(b)+abs(c))\n",
    "            \n",
    "        return h*v\n",
    "\n",
    "#SENDS IT TO PD VERY IMPORTANT TO INCLUDE IN EVERY EFFECT\n",
    "#def SendtoPd(message==''):\n",
    " #   os.system(\"echo '\" + message +\"'|PdSent 4000\")\n",
    "    \n",
    "#def IsOn():\n",
    " #   message = ' 0 1;'\n",
    "#    sendtoPd(message)\n",
    "    \n",
    "#def SetVolume():\n",
    "#    vol = 100\n",
    "#    message = '1 ' + str(Volume) + ';'\n",
    " #   SendtoPd(message)"
   ]
  },
  {
   "cell_type": "code",
   "execution_count": null,
   "metadata": {
    "collapsed": true
   },
   "outputs": [],
   "source": []
  }
 ],
 "metadata": {
  "kernelspec": {
   "display_name": "Python 3",
   "language": "python",
   "name": "python3"
  },
  "language_info": {
   "codemirror_mode": {
    "name": "ipython",
    "version": 3
   },
   "file_extension": ".py",
   "mimetype": "text/x-python",
   "name": "python",
   "nbconvert_exporter": "python",
   "pygments_lexer": "ipython3",
   "version": "3.5.1"
  }
 },
 "nbformat": 4,
 "nbformat_minor": 0
}
