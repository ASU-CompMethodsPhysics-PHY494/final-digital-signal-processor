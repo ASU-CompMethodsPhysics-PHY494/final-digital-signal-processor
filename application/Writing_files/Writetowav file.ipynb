{
 "cells": [
  {
   "cell_type": "code",
   "execution_count": null,
   "metadata": {
    "collapsed": false
   },
   "outputs": [],
   "source": [
    "#First Idea makes use of the scipy WaveFile module to make the sound.\n",
    "\n",
    "import wave\n",
    "import random\n",
    "import struct\n",
    "import scipy\n",
    "from scipy import io\n",
    "import scipy.io.wavfile\n",
    "import numpy as np\n",
    "import Trevor_work\n",
    "\n",
    "scipy.io.wavfile.write('Test_Sound.wav', 1000000, Trevor_work.fib2)"
   ]
  },
  {
   "cell_type": "code",
   "execution_count": null,
   "metadata": {
    "collapsed": false
   },
   "outputs": [],
   "source": [
    "#This one makesa use of the noise\n",
    "\n",
    "import wave\n",
    "import random\n",
    "import struct\n",
    "import scipy\n",
    "from scipy import io\n",
    "import scipy.io.wavfile\n",
    "import numpy as np\n",
    "from scipy.io.wavfile import write\n",
    "\n",
    "data = np.random.uniform(-1,1,44100) # 44100 random samples between -1 and 1\n",
    "scaled = np.int16(data/np.max(np.abs(data)) * 32767)\n",
    "write('Example.wav', 44100, scaled)"
   ]
  },
  {
   "cell_type": "code",
   "execution_count": null,
   "metadata": {
    "collapsed": false
   },
   "outputs": [],
   "source": [
    "#I'm not sure what's wrong with this one...\n",
    "\n",
    "import numpy as np\n",
    "from scipy.io import wavfile\n",
    "\n",
    "def makewav(data,outfile,samplerate):\n",
    "    wavfile.write(outfile,samplerate,data)\n",
    "\n",
    "    return makewav(Trevor_Work.fib2,'Problem.wav',44100)"
   ]
  },
  {
   "cell_type": "code",
   "execution_count": null,
   "metadata": {
    "collapsed": false
   },
   "outputs": [],
   "source": [
    "#Other Idea using AudioLab\n",
    "\n",
    "#conda install scikit-learn\n",
    "#sudo apt-get install python-dev python-numpy python-setuptools libsndfile-dev\n",
    "\n",
    "import scikits.audiolab\n",
    "\n",
    "data = Trevor_Work.fib2\n",
    "# write array to file:\n",
    "scikits.audiolab.wavwrite(data, 'AudioLabTest.wav', fs=44100, enc='pcm16')\n",
    "# play the array:\n",
    "scikits.audiolab.play(data, fs=44100)"
   ]
  },
  {
   "cell_type": "code",
   "execution_count": null,
   "metadata": {
    "collapsed": true
   },
   "outputs": [],
   "source": []
  }
 ],
 "metadata": {
  "kernelspec": {
   "display_name": "Python 3",
   "language": "python",
   "name": "python3"
  },
  "language_info": {
   "codemirror_mode": {
    "name": "ipython",
    "version": 3
   },
   "file_extension": ".py",
   "mimetype": "text/x-python",
   "name": "python",
   "nbconvert_exporter": "python",
   "pygments_lexer": "ipython3",
   "version": "3.5.1"
  }
 },
 "nbformat": 4,
 "nbformat_minor": 0
}
